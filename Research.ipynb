{
 "cells": [
  {
   "cell_type": "code",
   "execution_count": 26,
   "id": "856285d3",
   "metadata": {},
   "outputs": [],
   "source": [
    "import pandas as pd\n",
    "import numpy as np\n",
    "import matplotlib.pyplot as plt\n",
    "import seaborn as sns\n",
    "from  sklearn.ensemble import IsolationForest\n",
    "import warnings\n",
    "warnings.filterwarnings('ignore')\n",
    "from sklearn.preprocessing  import LabelEncoder, OrdinalEncoder\n",
    "from sklearn import linear_model \n",
    "from sklearn import tree \n",
    "from sklearn import ensemble \n",
    "from sklearn import metrics \n",
    "from sklearn import preprocessing \n",
    "from sklearn.model_selection import train_test_split \n",
    "from sklearn.feature_selection import SelectKBest, f_classif\n",
    "from sklearn.linear_model import LogisticRegression\n",
    "from sklearn.metrics import accuracy_score, classification_report"
   ]
  },
  {
   "cell_type": "code",
   "execution_count": 27,
   "id": "cffea56d",
   "metadata": {},
   "outputs": [],
   "source": [
    "df = pd.read_csv('bank_fin\\\\bank_fin.csv', sep = ';')"
   ]
  },
  {
   "cell_type": "markdown",
   "id": "c096a535",
   "metadata": {},
   "source": [
    "# Подготавка столбца **balance**"
   ]
  },
  {
   "cell_type": "code",
   "execution_count": 28,
   "id": "418d0427",
   "metadata": {},
   "outputs": [],
   "source": [
    "df['balance'] = df['balance'].astype(str) \\\n",
    "    .str.replace(' ', '') \\\n",
    "    .str.replace(',', '.') \\\n",
    "    .str.replace('$', '') \\\n",
    "    .astype(float)\n",
    "\n",
    "df['balance'] = pd.to_numeric(df['balance'], errors='coerce')\n",
    "median_balance = df['balance'].median()\n",
    "df['balance'] = df['balance'].fillna(median_balance)"
   ]
  },
  {
   "cell_type": "markdown",
   "id": "461892a6",
   "metadata": {},
   "source": [
    "# Заменаем пропуски в **job** и **education** на моду"
   ]
  },
  {
   "cell_type": "code",
   "execution_count": 29,
   "id": "cd8713b5",
   "metadata": {},
   "outputs": [],
   "source": [
    "job_mode = df.loc[df['job'] != 'unknown', 'job'].mode()[0]\n",
    "df['job'] = df['job'].replace('unknown', job_mode)\n",
    "education_mode = df.loc[df['education'] != 'unknown', 'education'].mode()[0]\n",
    "df['education'] = df['education'].replace('unknown', education_mode)"
   ]
  },
  {
   "cell_type": "markdown",
   "id": "0ef1c098",
   "metadata": {},
   "source": [
    "# Удаление выбросов"
   ]
  },
  {
   "cell_type": "code",
   "execution_count": 30,
   "id": "0555f545",
   "metadata": {},
   "outputs": [],
   "source": [
    "Q1 = df['balance'].quantile(0.25)\n",
    "Q3 = df['balance'].quantile(0.75)\n",
    "IQR = Q3 - Q1\n",
    "lower_bound = Q1 - 1.5 * IQR\n",
    "upper_bound = Q3 + 1.5 * IQR\n",
    "df = df[(df['balance'] >= lower_bound) & (df['balance'] <= upper_bound)]"
   ]
  },
  {
   "cell_type": "markdown",
   "id": "ff3f6b01",
   "metadata": {},
   "source": [
    "# Создание новой переменной **age_group**"
   ]
  },
  {
   "cell_type": "code",
   "execution_count": 31,
   "id": "9a43e5e9",
   "metadata": {},
   "outputs": [],
   "source": [
    "def age_group(age):\n",
    "    if age < 30:\n",
    "        return '<30'\n",
    "    elif 30 <= age < 40:\n",
    "        return '30-40'\n",
    "    elif 40 <= age < 50:\n",
    "        return '40-50'\n",
    "    elif 50 <= age < 60:\n",
    "        return '50-60'\n",
    "    else:\n",
    "        return '60+'\n",
    "df['age_group'] = df['age'].apply(age_group)"
   ]
  },
  {
   "cell_type": "markdown",
   "id": "e0d99dd9",
   "metadata": {},
   "source": [
    "# Кодирование категорий"
   ]
  },
  {
   "cell_type": "code",
   "execution_count": 32,
   "id": "ecbadf44",
   "metadata": {},
   "outputs": [],
   "source": [
    "le_edu = LabelEncoder()\n",
    "df['education'] = le_edu.fit_transform(df['education'])\n",
    "le_age = LabelEncoder()\n",
    "df['age_group'] = le_age.fit_transform(df['age_group'])"
   ]
  },
  {
   "cell_type": "markdown",
   "id": "c3f8c2d3",
   "metadata": {},
   "source": [
    "# Кодирование категорий"
   ]
  },
  {
   "cell_type": "code",
   "execution_count": 33,
   "id": "f3a75cea",
   "metadata": {},
   "outputs": [],
   "source": [
    "df['deposit'] = df['deposit'].map({'yes': 1, 'no': 0})\n",
    "df['default'] = df['default'].map({'yes': 1, 'no': 0})\n",
    "df['housing'] = df['housing'].map({'yes': 1, 'no': 0})\n",
    "df['loan'] = df['loan'].map({'yes': 1, 'no': 0})"
   ]
  },
  {
   "cell_type": "markdown",
   "id": "896f581a",
   "metadata": {},
   "source": [
    "# Создание **dummy** переменных"
   ]
  },
  {
   "cell_type": "code",
   "execution_count": 34,
   "id": "1381102a",
   "metadata": {},
   "outputs": [],
   "source": [
    "nominal_cols = ['job', 'marital', 'contact', 'month', 'poutcome']\n",
    "df = pd.concat([df, pd.get_dummies(df[nominal_cols], prefix=nominal_cols, drop_first=False)], axis=1)"
   ]
  },
  {
   "cell_type": "markdown",
   "id": "a83ec9b1",
   "metadata": {},
   "source": [
    "# Удаление номинальных переменных"
   ]
  },
  {
   "cell_type": "code",
   "execution_count": 35,
   "id": "64fb162e",
   "metadata": {},
   "outputs": [],
   "source": [
    "df.drop(columns=nominal_cols, inplace=True)\n",
    "df = df.drop('age', axis=1)"
   ]
  },
  {
   "cell_type": "markdown",
   "id": "c57e2c55",
   "metadata": {},
   "source": [
    "# Создаем **test** и **train**"
   ]
  },
  {
   "cell_type": "code",
   "execution_count": 36,
   "id": "ecb98b96",
   "metadata": {},
   "outputs": [],
   "source": [
    "X = df.drop(['deposit'], axis=1)\n",
    "y = df['deposit']\n",
    "cols = ['balance'] + [col for col in X.columns if col != 'balance']\n",
    "X = X[cols]\n",
    "X_train, X_test, y_train, y_test = train_test_split(X, y, stratify=y, random_state = 42, test_size = 0.33)"
   ]
  },
  {
   "cell_type": "code",
   "execution_count": 37,
   "id": "5efdf3d7",
   "metadata": {},
   "outputs": [
    {
     "name": "stdout",
     "output_type": "stream",
     "text": [
      "🔹 Accuracy (все признаки): 0.77\n",
      "⭐ Accuracy (топ-15 признаков): 0.8\n"
     ]
    }
   ],
   "source": [
    "from sklearn.preprocessing import MinMaxScaler\n",
    "from sklearn.linear_model import LogisticRegression\n",
    "from sklearn.metrics import accuracy_score, classification_report\n",
    "from sklearn.feature_selection import SelectKBest, f_classif\n",
    "\n",
    "# === 1. Модель на всех числовых признаках ===\n",
    "X_train_all = X_train.select_dtypes(include='number')\n",
    "X_test_all = X_test.select_dtypes(include='number')\n",
    "\n",
    "scaler_all = MinMaxScaler()\n",
    "X_train_all_scaled = scaler_all.fit_transform(X_train_all)\n",
    "X_test_all_scaled = scaler_all.transform(X_test_all)\n",
    "\n",
    "logreg_all = LogisticRegression(solver='sag', random_state=42, max_iter=1000)\n",
    "logreg_all.fit(X_train_all_scaled, y_train)\n",
    "y_pred_all = logreg_all.predict(X_test_all_scaled)\n",
    "acc_all = accuracy_score(y_test, y_pred_all)\n",
    "\n",
    "print(\"🔹 Accuracy (все признаки):\", round(acc_all, 2))\n",
    "\n",
    "\n",
    "# === 2. Модель только на 15 лучших признаках ===\n",
    "# Отбор признаков\n",
    "selector = SelectKBest(score_func=f_classif, k=15)\n",
    "selector.fit(X_train, y_train)\n",
    "\n",
    "best_features = X_train.columns[selector.get_support(indices=True)]\n",
    "X_train_best = X_train[best_features]\n",
    "X_test_best = X_test[best_features]\n",
    "\n",
    "# Масштабируем\n",
    "scaler_best = MinMaxScaler()\n",
    "X_train_best_scaled = scaler_best.fit_transform(X_train_best)\n",
    "X_test_best_scaled = scaler_best.transform(X_test_best)\n",
    "\n",
    "logreg_best = LogisticRegression(solver='sag', random_state=42, max_iter=1000)\n",
    "logreg_best.fit(X_train_best_scaled, y_train)\n",
    "y_pred_best = logreg_best.predict(X_test_best_scaled)\n",
    "acc_best = accuracy_score(y_test, y_pred_best)\n",
    "\n",
    "print(\"⭐ Accuracy (топ-15 признаков):\", round(acc_best, 2))\n"
   ]
  },
  {
   "cell_type": "code",
   "execution_count": null,
   "id": "b9f883e2",
   "metadata": {},
   "outputs": [
    {
     "name": "stdout",
     "output_type": "stream",
     "text": [
      "Топ-15 лучших признаков:\n",
      "balance\n",
      "housing\n",
      "duration\n",
      "campaign\n",
      "pdays\n",
      "previous\n",
      "age_group\n",
      "contact_cellular\n",
      "contact_unknown\n",
      "month_mar\n",
      "month_may\n",
      "month_oct\n",
      "month_sep\n",
      "poutcome_success\n",
      "poutcome_unknown\n"
     ]
    }
   ],
   "source": [
    "# selector = SelectKBest(score_func=f_classif, k=15)\n",
    "# selector.fit_transform(X_train, y_train)\n",
    "\n",
    "# best_indices = selector.get_support(indices=True)\n",
    "# best_features = X_train.columns[best_indices]\n",
    "\n",
    "# print('Топ-15 лучших признаков:')\n",
    "# for f in best_features:\n",
    "#     print(f)"
   ]
  },
  {
   "cell_type": "code",
   "execution_count": null,
   "id": "7b2649d1",
   "metadata": {},
   "outputs": [
    {
     "name": "stdout",
     "output_type": "stream",
     "text": [
      "       balance  housing  duration  campaign     pdays  previous  age_group  \\\n",
      "7287  0.426374      1.0  0.131735   0.00000  0.000000  0.000000        0.0   \n",
      "4766  0.346531      0.0  0.075793   0.00000  0.240936  0.034483        0.0   \n",
      "5712  0.335242      1.0  0.102346   0.02381  0.419883  0.086207        0.0   \n",
      "2530  0.407886      0.0  0.034803   0.00000  0.120468  0.086207        0.0   \n",
      "9294  0.571499      0.0  0.025264   0.00000  0.138012  0.137931        0.0   \n",
      "\n",
      "      contact_cellular  contact_unknown  month_mar  month_may  month_oct  \\\n",
      "7287               1.0              0.0        0.0        0.0        0.0   \n",
      "4766               1.0              0.0        0.0        0.0        0.0   \n",
      "5712               0.0              0.0        0.0        1.0        0.0   \n",
      "2530               1.0              0.0        0.0        0.0        0.0   \n",
      "9294               1.0              0.0        0.0        0.0        0.0   \n",
      "\n",
      "      month_sep  poutcome_success  poutcome_unknown  \n",
      "7287        0.0               0.0               1.0  \n",
      "4766        0.0               0.0               0.0  \n",
      "5712        0.0               0.0               0.0  \n",
      "2530        0.0               1.0               0.0  \n",
      "9294        0.0               1.0               0.0  \n",
      "       balance  housing  duration  campaign     pdays  previous  age_group  \\\n",
      "3333  0.360602      0.0  0.074246  0.000000  0.109942  0.034483       0.75   \n",
      "6048  0.419012      0.0  0.017530  0.000000  0.000000  0.000000       0.50   \n",
      "5675  0.564791      0.0  0.054653  0.166667  0.382456  0.034483       0.00   \n",
      "2564  0.543030      0.0  0.059294  0.047619  0.000000  0.000000       0.00   \n",
      "8983  0.510962      1.0  0.134313  0.023810  0.000000  0.000000       0.50   \n",
      "\n",
      "      contact_cellular  contact_unknown  month_mar  month_may  month_oct  \\\n",
      "3333               0.0              0.0        1.0        0.0        0.0   \n",
      "6048               1.0              0.0        0.0        0.0        0.0   \n",
      "5675               1.0              0.0        0.0        1.0        0.0   \n",
      "2564               1.0              0.0        0.0        0.0        0.0   \n",
      "8983               0.0              1.0        0.0        1.0        0.0   \n",
      "\n",
      "      month_sep  poutcome_success  poutcome_unknown  \n",
      "3333        0.0               1.0               0.0  \n",
      "6048        0.0               0.0               1.0  \n",
      "5675        0.0               0.0               0.0  \n",
      "2564        0.0               0.0               1.0  \n",
      "8983        0.0               0.0               1.0  \n",
      "Среднее значение первого предиктора в тестовой выборке: 0.47\n"
     ]
    }
   ],
   "source": [
    "# from sklearn.preprocessing import MinMaxScaler\n",
    "# X_train_selected = X_train[best_features]\n",
    "# X_test_selected = X_test[best_features]\n",
    "\n",
    "# # Создаём scaler и обучаем только на обучающих данных!\n",
    "# scaler = MinMaxScaler()\n",
    "# X_train_scaled = scaler.fit_transform(X_train_selected)\n",
    "# X_test_scaled = scaler.transform(X_test_selected)\n",
    "\n",
    "# # Если нужен DataFrame c теми же именами столбцов:\n",
    "# import pandas as pd\n",
    "# X_train_scaled = pd.DataFrame(X_train_scaled, columns=best_features, index=X_train.index)\n",
    "# X_test_scaled = pd.DataFrame(X_test_scaled, columns=best_features, index=X_test.index)\n",
    "\n",
    "# print(X_train_scaled.head())\n",
    "# print(X_test_scaled.head())\n",
    "\n",
    "# first_pred_mean = round(X_test_scaled.iloc[:, 0].mean(), 2)\n",
    "# print(f'Среднее значение первого предиктора в тестовой выборке: {first_pred_mean}')"
   ]
  },
  {
   "cell_type": "code",
   "execution_count": null,
   "id": "bced9d8a",
   "metadata": {},
   "outputs": [
    {
     "name": "stdout",
     "output_type": "stream",
     "text": [
      "0.80\n"
     ]
    }
   ],
   "source": [
    "# # Логистическая регрессия с указанными параметрами\n",
    "# logreg = LogisticRegression(solver='sag', random_state=42, max_iter=1000)\n",
    "# logreg.fit(X_train_scaled, y_train)\n",
    "\n",
    "# # Предсказания\n",
    "# y_pred = logreg.predict(X_test_scaled)\n",
    "\n",
    "# # Оценка качества — accuracy\n",
    "# accuracy = accuracy_score(y_test, y_pred)\n",
    "# #print(classification_report(y_test, y_pred))\n",
    "\n",
    "# accuracy = accuracy_score(y_test, y_pred)\n",
    "# print(f'{accuracy:.2f}')"
   ]
  }
 ],
 "metadata": {
  "kernelspec": {
   "display_name": "Python (venv)",
   "language": "python",
   "name": "venv"
  },
  "language_info": {
   "codemirror_mode": {
    "name": "ipython",
    "version": 3
   },
   "file_extension": ".py",
   "mimetype": "text/x-python",
   "name": "python",
   "nbconvert_exporter": "python",
   "pygments_lexer": "ipython3",
   "version": "3.10.7"
  }
 },
 "nbformat": 4,
 "nbformat_minor": 5
}
