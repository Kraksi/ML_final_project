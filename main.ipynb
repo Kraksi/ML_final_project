{
 "cells": [
  {
   "cell_type": "markdown",
   "id": "c353de9a",
   "metadata": {},
   "source": [
    "# Проект: классификация"
   ]
  },
  {
   "cell_type": "markdown",
   "id": "449fa69f",
   "metadata": {},
   "source": [
    "### Блок 1: Код выполнения"
   ]
  },
  {
   "cell_type": "code",
   "execution_count": null,
   "id": "88e2b1db",
   "metadata": {},
   "outputs": [],
   "source": [
    "import pandas as pd\n",
    "import numpy as np\n",
    "import matplotlib.pyplot as plt\n",
    "import seaborn as sns\n",
    "import warnings\n",
    "warnings.filterwarnings('ignore')\n",
    "\n",
    "from sklearn.model_selection import train_test_split, GridSearchCV\n",
    "from sklearn.preprocessing import LabelEncoder, MinMaxScaler, StandardScaler\n",
    "from sklearn.feature_selection import SelectKBest, f_classif\n",
    "\n",
    "from sklearn.linear_model import LogisticRegression\n",
    "from sklearn.tree import DecisionTreeClassifier\n",
    "from sklearn.ensemble import (\n",
    "    RandomForestClassifier,\n",
    "    GradientBoostingClassifier,\n",
    "    StackingClassifier,\n",
    ")\n",
    "\n",
    "from sklearn.metrics import (\n",
    "    accuracy_score,\n",
    "    f1_score,\n",
    "    recall_score,\n",
    "    precision_score,\n",
    ")\n",
    "\n",
    "import optuna\n"
   ]
  },
  {
   "cell_type": "markdown",
   "id": "71559b60",
   "metadata": {},
   "source": [
    "## Часть 1. Знакомство с данными, обработка пропусков и выбросов"
   ]
  },
  {
   "cell_type": "markdown",
   "id": "17f41b2c",
   "metadata": {},
   "source": [
    "### Блок 2: Код выполнения"
   ]
  },
  {
   "cell_type": "code",
   "execution_count": null,
   "id": "fd6f05f0",
   "metadata": {},
   "outputs": [],
   "source": [
    "df = pd.read_csv('bank_fin\\\\bank_fin.csv', sep = ';')"
   ]
  },
  {
   "cell_type": "markdown",
   "id": "8da0c692",
   "metadata": {},
   "source": [
    "### Блок 3: Код выполнения"
   ]
  },
  {
   "cell_type": "code",
   "execution_count": null,
   "id": "59411512",
   "metadata": {},
   "outputs": [],
   "source": [
    "missing_per_column = df.isnull().sum()\n",
    "\n",
    "missing_per_column = missing_per_column[missing_per_column > 0]\n",
    "\n",
    "print(f\"Столбцы с пропущенными значениями и их количество: {missing_per_column}\")"
   ]
  },
  {
   "cell_type": "markdown",
   "id": "2369d0e2",
   "metadata": {},
   "source": [
    "### Блок 4: Код выполнения"
   ]
  },
  {
   "cell_type": "code",
   "execution_count": null,
   "id": "aee26081",
   "metadata": {},
   "outputs": [],
   "source": [
    "for job in df['job'].unique():\n",
    "    print(job)"
   ]
  },
  {
   "cell_type": "markdown",
   "id": "b76caae4",
   "metadata": {},
   "source": [
    "### Блок 5: Код выполнения"
   ]
  },
  {
   "cell_type": "code",
   "execution_count": null,
   "id": "f321194b",
   "metadata": {},
   "outputs": [],
   "source": [
    "df['balance'] = df['balance'].astype(str) \\\n",
    "    .str.replace(' ', '') \\\n",
    "    .str.replace(',', '.') \\\n",
    "    .str.replace('$', '') \\\n",
    "    .astype(float)\n",
    "\n",
    "mean_balance = round(df['balance'].mean(), 3)\n",
    "\n",
    "formatted_balance = f\"{mean_balance:.3f}\".rstrip('0').rstrip('.')\n",
    "\n",
    "print(f'Среднее значение с округлением до 3 знаков: {formatted_balance}')\n"
   ]
  },
  {
   "cell_type": "markdown",
   "id": "f257b86d",
   "metadata": {},
   "source": [
    "### Блок 6: Код выполнения"
   ]
  },
  {
   "cell_type": "code",
   "execution_count": null,
   "id": "846c4552",
   "metadata": {},
   "outputs": [],
   "source": [
    "df['balance'] = pd.to_numeric(df['balance'], errors='coerce')\n",
    "\n",
    "median_balance = df['balance'].median()\n",
    "print(f\"Медианное значение баланса: {median_balance}\")\n",
    "\n",
    "df['balance'] = df['balance'].fillna(median_balance)\n",
    "\n",
    "mean_balance = round(df['balance'].mean(), 3)\n",
    "print(f\"Среднее значение баланса: {mean_balance}\")\n"
   ]
  },
  {
   "cell_type": "markdown",
   "id": "b10303d1",
   "metadata": {},
   "source": [
    "### Блок 7: Код выполнения"
   ]
  },
  {
   "cell_type": "code",
   "execution_count": null,
   "id": "c6d0e419",
   "metadata": {},
   "outputs": [],
   "source": [
    "job_mode = df.loc[df['job'] != 'unknown', 'job'].mode()[0]\n",
    "df['job'] = df['job'].replace('unknown', job_mode)\n",
    "\n",
    "education_mode = df.loc[df['education'] != 'unknown', 'education'].mode()[0]\n",
    "df['education'] = df['education'].replace('unknown', education_mode)\n",
    "\n",
    "popular_clients = df[(df['job'] == job_mode) & (df['education'] == education_mode)]\n",
    "\n",
    "mean_balance_popular = round(popular_clients['balance'].mean(), 3)\n",
    "print(f'Средний баланс популярных клиентов: {mean_balance_popular}')"
   ]
  },
  {
   "cell_type": "markdown",
   "id": "ca96ba24",
   "metadata": {},
   "source": [
    "### Блок 8: Код выполнения"
   ]
  },
  {
   "cell_type": "code",
   "execution_count": null,
   "id": "df3a3f8c",
   "metadata": {},
   "outputs": [],
   "source": [
    "Q1 = df['balance'].quantile(0.25)\n",
    "Q3 = df['balance'].quantile(0.75)\n",
    "IQR = Q3 - Q1\n",
    "\n",
    "lower_bound = Q1 - 1.5 * IQR\n",
    "upper_bound = Q3 + 1.5 * IQR\n",
    "\n",
    "print(f'Нижняя граница: {lower_bound}')\n",
    "print(f'Верхняя граница: {upper_bound}')\n",
    "\n",
    "df = df[(df['balance'] >= lower_bound) & (df['balance'] <= upper_bound)]"
   ]
  },
  {
   "cell_type": "markdown",
   "id": "5d22b8cd",
   "metadata": {},
   "source": [
    "## Часть 2:  Разведывательный анализ"
   ]
  },
  {
   "cell_type": "markdown",
   "id": "ea0bd091",
   "metadata": {},
   "source": [
    "### Блок 9: Код выполнения"
   ]
  },
  {
   "cell_type": "code",
   "execution_count": null,
   "id": "63be3267",
   "metadata": {},
   "outputs": [],
   "source": [
    "deposit_counts = df['deposit'].value_counts()\n",
    "print(deposit_counts)\n",
    "\n",
    "plt.figure(figsize=(6,4))\n",
    "bars = plt.bar(deposit_counts.index, deposit_counts.values)\n",
    "plt.title('Распределение целевой переменной (депозит открыт/не открыт)', fontsize=14)\n",
    "plt.xlabel('Депозит оформлен', fontsize=12)\n",
    "plt.ylabel('Число клиентов', fontsize=12)\n",
    "\n",
    "for bar in bars:\n",
    "    yval = bar.get_height()\n",
    "    plt.text(bar.get_x() + bar.get_width()/2, yval + 50, int(yval), ha='center', va='bottom', fontsize=11, fontweight='bold')\n",
    "\n",
    "plt.xticks(fontsize=11)\n",
    "plt.yticks(fontsize=11)\n",
    "plt.tight_layout()\n",
    "plt.show()"
   ]
  },
  {
   "cell_type": "markdown",
   "id": "426b1d40",
   "metadata": {},
   "source": [
    "### Задания 2 и 3"
   ]
  },
  {
   "cell_type": "markdown",
   "id": "3ec910e2",
   "metadata": {},
   "source": [
    "### Блок 10: Код выполнения"
   ]
  },
  {
   "cell_type": "code",
   "execution_count": null,
   "id": "21754f23",
   "metadata": {},
   "outputs": [],
   "source": [
    "quant_cols = df.select_dtypes(include='number').columns\n",
    "desc_stats = df[quant_cols].describe().T\n",
    "desc_stats['range'] = desc_stats['max'] - desc_stats['min']\n",
    "desc_stats[['count', 'mean', 'std', 'min', '25%', '50%', '75%', 'max', 'range']]\n",
    "print('Максимальный возраст клиента банка:', df['age'].max())\n",
    "print('Минимальная продолжительность разговора с клиентом (сек):', df['duration'].min())\n",
    "\n",
    "\n",
    "\n",
    "for col in quant_cols:\n",
    "    plt.figure(figsize=(12,4))\n",
    "    \n",
    "    plt.subplot(1,2,1)\n",
    "    plt.hist(df[col], bins=30)\n",
    "    plt.title(f'Гистограмма: {col}')\n",
    "    plt.xlabel(col)\n",
    "    plt.ylabel('Частота')\n",
    "    \n",
    "    plt.subplot(1,2,2)\n",
    "    plt.boxplot(df[col], vert=False)\n",
    "    plt.title(f'Boxplot: {col}')\n",
    "    plt.xlabel(col)\n",
    "    \n",
    "    plt.tight_layout()\n",
    "    plt.show()\n"
   ]
  },
  {
   "cell_type": "markdown",
   "id": "821dc39e",
   "metadata": {},
   "source": [
    "### Задания 4 и 5"
   ]
  },
  {
   "cell_type": "markdown",
   "id": "f3b33247",
   "metadata": {},
   "source": [
    "### Блок 11: Код выполнения"
   ]
  },
  {
   "cell_type": "code",
   "execution_count": null,
   "id": "fc1aa347",
   "metadata": {},
   "outputs": [],
   "source": [
    "job_unique = df['job'].nunique()\n",
    "print('Всего сфер занятости:', job_unique)\n",
    "print('Сферы занятости:', df['job'].unique())\n",
    "\n",
    "plt.figure(figsize=(10,5))\n",
    "df['job'].value_counts().plot(kind='bar')\n",
    "plt.title('Распределение клиентов по профессиям')\n",
    "plt.xlabel('Профессия')\n",
    "plt.ylabel('Количество клиентов')\n",
    "plt.xticks(rotation=30)\n",
    "plt.tight_layout()\n",
    "plt.show()\n",
    "\n",
    "months = df['month'].unique()\n",
    "print('Месяцы, в которые была кампания:', sorted(months))\n",
    "print('Всего месяцев:', len(months))\n",
    "\n",
    "plt.figure(figsize=(8,4))\n",
    "df['month'].value_counts().loc[sorted(df['month'].unique())].plot(kind='bar')\n",
    "plt.title('Число контактов по месяцам')\n",
    "plt.xlabel('Месяц')\n",
    "plt.ylabel('Количество контактов')\n",
    "plt.xticks(rotation=30)\n",
    "plt.tight_layout()\n",
    "plt.show()\n",
    "\n",
    "marital_mode = df['marital'].mode()[0]\n",
    "print('Самое частое семейное положение:', marital_mode)\n",
    "print(df['marital'].value_counts())\n",
    "\n",
    "plt.figure(figsize=(6,4))\n",
    "df['marital'].value_counts().plot(kind='bar')\n",
    "plt.title('Распределение по семейному положению')\n",
    "plt.xlabel('Семейное положение')\n",
    "plt.ylabel('Количество клиентов')\n",
    "plt.tight_layout()\n",
    "plt.show()\n",
    "\n",
    "education_mode = df['education'].mode()[0]\n",
    "print('Самый частый уровень образования:', education_mode)\n",
    "print(df['education'].value_counts())\n",
    "\n",
    "plt.figure(figsize=(7,4))\n",
    "df['education'].value_counts().plot(kind='bar')\n",
    "plt.title('Распределение по уровню образования')\n",
    "plt.xlabel('Образование')\n",
    "plt.ylabel('Количество клиентов')\n",
    "plt.tight_layout()\n",
    "plt.show()"
   ]
  },
  {
   "cell_type": "markdown",
   "id": "2e96f511",
   "metadata": {},
   "source": [
    "### Блок 12: Код выполнения"
   ]
  },
  {
   "cell_type": "code",
   "execution_count": null,
   "id": "7ffbe01f",
   "metadata": {},
   "outputs": [],
   "source": [
    "pivot = pd.crosstab(df['poutcome'], df['deposit'])\n",
    "print(pivot)\n",
    "\n",
    "success_poutcome = pivot[pivot['yes'] > pivot['no']]\n",
    "print('Статусы, где успехов больше, чем неудач:')\n",
    "print(success_poutcome)\n",
    "\n",
    "pivot.plot(kind='bar', stacked=True, figsize=(8,5))\n",
    "plt.title('Результаты текущей кампании по статусу предыдущей')\n",
    "plt.xlabel('Статус предыдущей кампании')\n",
    "plt.ylabel('Количество клиентов')\n",
    "plt.xticks(rotation=30)\n",
    "plt.tight_layout()\n",
    "plt.show()\n",
    "\n",
    "pivot = pd.crosstab(df['poutcome'], df['deposit'])\n",
    "print('Таблица сопряжённости:\\n', pivot, '\\n')\n",
    "\n",
    "success_poutcome = pivot[pivot['yes'] > pivot['no']]\n",
    "print('Статусы предыдущей кампании, где успехов больше, чем неудач:')\n",
    "print(success_poutcome)\n",
    "\n",
    "pivot.plot(kind='bar', stacked=True, figsize=(8,5))\n",
    "plt.title('Результаты текущей кампании по статусу предыдущей')\n",
    "plt.xlabel('Статус предыдущей кампании')\n",
    "plt.ylabel('Количество клиентов')\n",
    "plt.xticks(rotation=30)\n",
    "plt.tight_layout()\n",
    "plt.show()\n",
    "\n"
   ]
  },
  {
   "cell_type": "markdown",
   "id": "966912a4",
   "metadata": {},
   "source": [
    "### Блок 13: Код выполнения"
   ]
  },
  {
   "cell_type": "code",
   "execution_count": null,
   "id": "dd92dd33",
   "metadata": {},
   "outputs": [],
   "source": [
    "month_stats = df.groupby('month')['deposit'].value_counts(normalize=True).unstack().fillna(0)\n",
    "\n",
    "month_stats_no = month_stats['no']\n",
    "\n",
    "worst_month = month_stats_no.idxmax()\n",
    "max_percent = month_stats_no.max()\n",
    "\n",
    "print(f'В месяц {worst_month} самый большой процент неудач: {max_percent:.2%}')\n"
   ]
  },
  {
   "cell_type": "markdown",
   "id": "07a7becd",
   "metadata": {},
   "source": [
    "### Блок 14: Код выполнения"
   ]
  },
  {
   "cell_type": "code",
   "execution_count": null,
   "id": "bc70c3c6",
   "metadata": {},
   "outputs": [],
   "source": [
    "def age_group(age):\n",
    "    if age < 30:\n",
    "        return '<30'\n",
    "    elif 30 <= age < 40:\n",
    "        return '30-40'\n",
    "    elif 40 <= age < 50:\n",
    "        return '40-50'\n",
    "    elif 50 <= age < 60:\n",
    "        return '50-60'\n",
    "    else:\n",
    "        return '60+'\n",
    "\n",
    "df['age_group'] = df['age'].apply(age_group)\n",
    "\n",
    "print(df['age_group'].value_counts())\n",
    "age_deposit = df.groupby('age_group')['deposit'].value_counts(normalize=True).unstack().fillna(0)\n",
    "\n",
    "age_deposit[['yes', 'no']].plot(kind='bar', stacked=True, figsize=(7,5), color=['#4caf50', '#f44336'])\n",
    "plt.title('Доли открывших и не открывших депозит по возрастным группам')\n",
    "plt.xlabel('Возрастная группа')\n",
    "plt.ylabel('Доля клиентов')\n",
    "plt.legend(['Открыли депозит', 'Не открыли депозит'])\n",
    "plt.xticks(rotation=0)\n",
    "plt.tight_layout()\n",
    "plt.show()\n",
    "\n",
    "\n"
   ]
  },
  {
   "cell_type": "markdown",
   "id": "0841c685",
   "metadata": {},
   "source": [
    "### Задания 9 и 10"
   ]
  },
  {
   "cell_type": "markdown",
   "id": "9dd5a49a",
   "metadata": {},
   "source": [
    "### Блок 15: Код выполнения"
   ]
  },
  {
   "cell_type": "code",
   "execution_count": null,
   "id": "2521479f",
   "metadata": {},
   "outputs": [],
   "source": [
    "marital_deposit = df.groupby('marital')['deposit'].value_counts(normalize=True).unstack().fillna(0)\n",
    "\n",
    "marital_deposit[['yes', 'no']].plot(kind='bar', stacked=True, figsize=(7,5), color=['#4caf50', '#f44336'])\n",
    "plt.title('Доли открывших и не открывших депозит по семейному статусу')\n",
    "plt.xlabel('Семейное положение')\n",
    "plt.ylabel('Доля клиентов')\n",
    "plt.legend(['Открыли депозит', 'Не открыли депозит'])\n",
    "plt.xticks(rotation=0)\n",
    "plt.tight_layout()\n",
    "plt.show()"
   ]
  },
  {
   "cell_type": "markdown",
   "id": "a0cd5a2d",
   "metadata": {},
   "source": [
    "### Блок 16: Код выполнения"
   ]
  },
  {
   "cell_type": "code",
   "execution_count": null,
   "id": "f1c13e0d",
   "metadata": {},
   "outputs": [],
   "source": [
    "\n",
    "education_deposit = df.groupby('education')['deposit'].value_counts(normalize=True).unstack().fillna(0)\n",
    "\n",
    "education_deposit[['yes', 'no']].plot(kind='bar', stacked=True, figsize=(7,5), color=['#4caf50', '#f44336'])\n",
    "plt.title('Доли открывших и не открывших депозит по уровню образования')\n",
    "plt.xlabel('Уровень образования')\n",
    "plt.ylabel('Доля клиентов')\n",
    "plt.legend(['Открыли депозит', 'Не открыли депозит'])\n",
    "plt.xticks(rotation=0)\n",
    "plt.tight_layout()\n",
    "plt.show()\n"
   ]
  },
  {
   "cell_type": "markdown",
   "id": "08f1e526",
   "metadata": {},
   "source": [
    "### Блок 17: Код выполнения"
   ]
  },
  {
   "cell_type": "code",
   "execution_count": null,
   "id": "8f64caf9",
   "metadata": {},
   "outputs": [],
   "source": [
    "\n",
    "job_deposit = df.groupby('job')['deposit'].value_counts(normalize=True).unstack().fillna(0)\n",
    "\n",
    "job_deposit[['yes', 'no']].plot(kind='bar', stacked=True, figsize=(12,6), color=['#4caf50', '#f44336'])\n",
    "plt.title('Доли открывших и не открывших депозит по профессиям')\n",
    "plt.xlabel('Профессия')\n",
    "plt.ylabel('Доля клиентов')\n",
    "plt.legend(['Открыли депозит', 'Не открыли депозит'])\n",
    "plt.xticks(rotation=30)\n",
    "plt.tight_layout()\n",
    "plt.show()\n",
    "\n",
    "most_common_job = df['job'].mode()[0]\n",
    "print('Сфера с наибольшим числом клиентов:', most_common_job)\n",
    "count = df['job'].value_counts()[most_common_job]\n",
    "print(f'Сфера с наибольшим числом клиентов: {most_common_job} ({count} клиентов)')\n"
   ]
  },
  {
   "cell_type": "markdown",
   "id": "a386a96a",
   "metadata": {},
   "source": [
    "### Блок 18: Код выполнения"
   ]
  },
  {
   "cell_type": "code",
   "execution_count": null,
   "id": "c9314188",
   "metadata": {},
   "outputs": [],
   "source": [
    "df_yes = df[df['deposit'] == 'yes']\n",
    "df_no = df[df['deposit'] == 'no']\n",
    "\n",
    "pivot_yes = pd.crosstab(df_yes['education'], df_yes['marital'])\n",
    "pivot_no = pd.crosstab(df_no['education'], df_no['marital'])\n",
    "\n",
    "plt.figure(figsize=(12, 5))\n",
    "\n",
    "plt.subplot(1, 2, 1)\n",
    "sns.heatmap(pivot_yes, annot=True, fmt='d', cmap='Greens')\n",
    "plt.title('Открыли депозит')\n",
    "plt.xlabel('Семейное положение')\n",
    "plt.ylabel('Уровень образования')\n",
    "\n",
    "plt.subplot(1, 2, 2)\n",
    "sns.heatmap(pivot_no, annot=True, fmt='d', cmap='Reds')\n",
    "plt.title('Не открыли депозит')\n",
    "plt.xlabel('Семейное положение')\n",
    "plt.ylabel('Уровень образования')\n",
    "\n",
    "plt.tight_layout()\n",
    "plt.show()\n",
    "\n",
    "print(\"Сводная таблица — Открыли депозит:\")\n",
    "print(pivot_yes)\n",
    "print(\"\\nСводная таблица — Не открыли депозит:\")\n",
    "print(pivot_no)"
   ]
  },
  {
   "cell_type": "markdown",
   "id": "dfd805c0",
   "metadata": {},
   "source": [
    "## Часть 3: преобразование данных"
   ]
  },
  {
   "cell_type": "markdown",
   "id": "12564cd3",
   "metadata": {},
   "source": [
    "### Блок 19: Код выполнения"
   ]
  },
  {
   "cell_type": "code",
   "execution_count": null,
   "id": "db2e5c85",
   "metadata": {},
   "outputs": [],
   "source": [
    "le_edu = LabelEncoder()\n",
    "df['education'] = le_edu.fit_transform(df['education'])\n",
    "print('Сумма закодированных значений education:', df['education'].sum())\n",
    "le_age = LabelEncoder()\n",
    "df['age_group'] = le_age.fit_transform(df['age_group'])\n",
    "print('Сумма закодированных значений age_group:', df['age_group'].sum())"
   ]
  },
  {
   "cell_type": "markdown",
   "id": "8c93e73d",
   "metadata": {},
   "source": [
    "### Задания 2 и 3"
   ]
  },
  {
   "cell_type": "markdown",
   "id": "0c107b6e",
   "metadata": {},
   "source": [
    "### Блок 20: Код выполнения"
   ]
  },
  {
   "cell_type": "code",
   "execution_count": null,
   "id": "de6ed3d5",
   "metadata": {},
   "outputs": [],
   "source": [
    "df['deposit'] = df['deposit'].map({'yes': 1, 'no': 0})\n",
    "df['default'] = df['default'].map({'yes': 1, 'no': 0})\n",
    "df['housing'] = df['housing'].map({'yes': 1, 'no': 0})\n",
    "df['loan'] = df['loan'].map({'yes': 1, 'no': 0})\n",
    "\n",
    "\n",
    "std_deposit = round(df['deposit'].std(), 3)\n",
    "print(f'Стандартное отклонение: {std_deposit}')\n",
    "\n",
    "default_mean = df['default'].mean()\n",
    "housing_mean = df['housing'].mean()\n",
    "loan_mean = df['loan'].mean()\n",
    "\n",
    "result = round(default_mean + housing_mean + loan_mean, 3)\n",
    "print(f'Сумма средних: {result}')\n",
    "\n"
   ]
  },
  {
   "cell_type": "markdown",
   "id": "af9f4cbb",
   "metadata": {},
   "source": [
    "### Блок 21: Код выполнения"
   ]
  },
  {
   "cell_type": "code",
   "execution_count": null,
   "id": "8be9cfd4",
   "metadata": {},
   "outputs": [],
   "source": [
    "nominal_cols = ['job', 'marital', 'contact', 'month', 'poutcome']\n",
    "\n",
    "df = pd.concat([df, pd.get_dummies(df[nominal_cols], prefix=nominal_cols, drop_first=False)], axis=1)\n",
    "\n",
    "print(df.columns[-20:])  # Показываем последние 20 столбцов для примера\n",
    "\n",
    "n_features = df.shape[1] - 1  # Всего столбцов минус столбец deposit\n",
    "print('Количество признаков:', n_features)\n",
    "df.drop(columns=nominal_cols, inplace=True)\n",
    "df = df.drop('age', axis=1)\n",
    "\n",
    "a_features = df.shape[1] - 1 \n",
    "print('Количество признаков:', a_features)\n",
    "print(df)\n"
   ]
  },
  {
   "cell_type": "markdown",
   "id": "9a23e318",
   "metadata": {},
   "source": [
    "### Задания 5 и 6"
   ]
  },
  {
   "cell_type": "markdown",
   "id": "50511fa3",
   "metadata": {},
   "source": [
    "### Блок 22: Код выполнения"
   ]
  },
  {
   "cell_type": "code",
   "execution_count": null,
   "id": "159f10d7",
   "metadata": {},
   "outputs": [],
   "source": [
    "import matplotlib.pyplot as plt\n",
    "import seaborn as sns\n",
    "import numpy as np\n",
    "\n",
    "corr_matrix = df.corr(numeric_only=True)\n",
    "\n",
    "plt.figure(figsize=(14, 10))\n",
    "sns.heatmap(corr_matrix, cmap='coolwarm')\n",
    "plt.title('Корреляционная тепловая карта')\n",
    "plt.tight_layout()\n",
    "plt.show()\n",
    "\n",
    "target_corr = corr_matrix['deposit'].drop('deposit').sort_values(ascending=False)\n",
    "target_corr.plot(kind='bar', figsize=(8, 6))\n",
    "plt.title('Корреляция признаков с целевой переменной')\n",
    "plt.ylabel('Коэффициент корреляции с deposit')\n",
    "plt.tight_layout()\n",
    "plt.show()\n",
    "\n",
    "target_corr = df.corr(numeric_only=True)['deposit'].drop('deposit')\n",
    "\n",
    "sorted_corr = target_corr.abs().sort_values(ascending=False)\n",
    "\n",
    "print(sorted_corr)\n",
    "\n",
    "feature_corr = df.drop(columns=['deposit']).corr(numeric_only=True)\n",
    "\n"
   ]
  },
  {
   "cell_type": "markdown",
   "id": "b5b4c1a5",
   "metadata": {},
   "source": [
    "### Задания 7 и 8"
   ]
  },
  {
   "cell_type": "markdown",
   "id": "203e27db",
   "metadata": {},
   "source": [
    "### Блок 23: Код выполнения"
   ]
  },
  {
   "cell_type": "code",
   "execution_count": null,
   "id": "95d239ab",
   "metadata": {},
   "outputs": [],
   "source": [
    "X = df.drop(['deposit'], axis=1)\n",
    "y = df['deposit']\n",
    "cols = ['balance'] + [col for col in X.columns if col != 'balance']\n",
    "X = X[cols]\n",
    "X_train, X_test, y_train, y_test = train_test_split(X, y, stratify=y, random_state = 42, test_size = 0.33)\n",
    "print(X_test)"
   ]
  },
  {
   "cell_type": "markdown",
   "id": "8cb8275d",
   "metadata": {},
   "source": [
    "### Блок 24: Код выполнения"
   ]
  },
  {
   "cell_type": "code",
   "execution_count": null,
   "id": "56c62fc9",
   "metadata": {},
   "outputs": [],
   "source": [
    "print('Размер тестовой выборки:', len(X_test))\n",
    "mean_target_test = round(y_test.mean(), 2)\n",
    "print(f'Среднее значение целевой переменной в тестовой выборке: {mean_target_test}')\n"
   ]
  },
  {
   "cell_type": "markdown",
   "id": "186507eb",
   "metadata": {},
   "source": [
    "### Блок 25: Код выполнения"
   ]
  },
  {
   "cell_type": "code",
   "execution_count": null,
   "id": "c9ed4c57",
   "metadata": {},
   "outputs": [],
   "source": [
    "\n",
    "selector = SelectKBest(score_func=f_classif, k=15)\n",
    "selector.fit_transform(X_train, y_train)\n",
    "\n",
    "best_indices = selector.get_support(indices=True)\n",
    "best_features = X_train.columns[best_indices]\n",
    "\n",
    "print('Топ-15 лучших признаков:')\n",
    "for f in best_features:\n",
    "    print(f)"
   ]
  },
  {
   "cell_type": "markdown",
   "id": "a43636ff",
   "metadata": {},
   "source": [
    "### Блок 26: Код выполнения"
   ]
  },
  {
   "cell_type": "code",
   "execution_count": null,
   "id": "e7053efb",
   "metadata": {},
   "outputs": [],
   "source": [
    "\n",
    "X_train_selected = X_train[best_features]\n",
    "X_test_selected = X_test[best_features]\n",
    "\n",
    "scaler = MinMaxScaler()\n",
    "X_train_scaled = scaler.fit_transform(X_train_selected)\n",
    "X_test_scaled = scaler.transform(X_test_selected)\n",
    "\n",
    "\n",
    "X_train_scaled = pd.DataFrame(X_train_scaled, columns=best_features, index=X_train.index)\n",
    "X_test_scaled = pd.DataFrame(X_test_scaled, columns=best_features, index=X_test.index)\n",
    "\n",
    "print(X_train_scaled.head())\n",
    "print(X_test_scaled.head())\n",
    "\n",
    "first_pred_mean = round(X_test_scaled.iloc[:, 0].mean(), 2)\n",
    "print(f'Среднее значение первого предиктора в тестовой выборке: {first_pred_mean}')"
   ]
  },
  {
   "cell_type": "markdown",
   "id": "0894c632",
   "metadata": {},
   "source": [
    "# Часть 4: Решение задачи классификации: логистическая регрессия и решающие деревья"
   ]
  },
  {
   "cell_type": "markdown",
   "id": "10eac039",
   "metadata": {},
   "source": [
    "### Блок 27: Код выполнения"
   ]
  },
  {
   "cell_type": "code",
   "execution_count": null,
   "id": "b5a5b3c7",
   "metadata": {},
   "outputs": [],
   "source": [
    "X_train_num = X_train[best_features]\n",
    "X_test_num = X_test[best_features]\n",
    "\n",
    "scaler = StandardScaler()\n",
    "X_train_scaled = scaler.fit_transform(X_train_num)\n",
    "X_test_scaled = scaler.transform(X_test_num)\n",
    "\n",
    "logreg = LogisticRegression(solver='sag', random_state=42, max_iter=1000)\n",
    "logreg.fit(X_train_scaled, y_train)\n",
    "\n",
    "y_pred = logreg.predict(X_test_scaled)\n",
    "accuracy = accuracy_score(y_test, y_pred)\n",
    "\n",
    "print(f'{accuracy:.2f}') "
   ]
  },
  {
   "cell_type": "markdown",
   "id": "29b7e0ba",
   "metadata": {},
   "source": [
    "### Задания 2,3,4"
   ]
  },
  {
   "cell_type": "markdown",
   "id": "f78ff695",
   "metadata": {},
   "source": [
    "### Блок 28: Код выполнения"
   ]
  },
  {
   "cell_type": "code",
   "execution_count": null,
   "id": "5ca61732",
   "metadata": {},
   "outputs": [],
   "source": [
    "depths = range(1, 21)\n",
    "\n",
    "train_scores = []\n",
    "test_scores = []\n",
    "\n",
    "for depth in depths:\n",
    "    tree = DecisionTreeClassifier(criterion='entropy', max_depth=depth, random_state=42)\n",
    "    tree.fit(X_train[best_features], y_train)\n",
    "    \n",
    "    train_acc = accuracy_score(y_train, tree.predict(X_train[best_features]))\n",
    "    test_acc = accuracy_score(y_test, tree.predict(X_test[best_features]))\n",
    "    \n",
    "    train_scores.append(train_acc)\n",
    "    test_scores.append(test_acc)\n",
    "\n",
    "plt.figure(figsize=(10, 6))\n",
    "plt.plot(depths, train_scores, label='Train Accuracy', marker='o')\n",
    "plt.plot(depths, test_scores, label='Test Accuracy', marker='s')\n",
    "plt.xlabel('Максимальная глубина дерева')\n",
    "plt.ylabel('Accuracy')\n",
    "plt.title('Accuracy vs. Tree Depth')\n",
    "plt.grid(True)\n",
    "plt.legend()\n",
    "plt.xticks(depths)\n",
    "plt.show()\n",
    "\n",
    "best_depth = None\n",
    "best_test_acc = 0\n",
    "tolerance = 0.01  # допустимая разница между train и test\n",
    "\n",
    "for i, depth in enumerate(depths):\n",
    "    train_acc = train_scores[i]\n",
    "    test_acc = test_scores[i]\n",
    "\n",
    "    if test_acc >= best_test_acc and (train_acc - test_acc) <= tolerance:\n",
    "        best_test_acc = test_acc\n",
    "        best_depth = depth\n",
    "\n",
    "print(f'✅ Оптимальная глубина дерева: {best_depth}')\n",
    "print(f'🎯 Accuracy на тесте при этой глубине: {best_test_acc:.2f}')\n"
   ]
  },
  {
   "cell_type": "markdown",
   "id": "781c0db8",
   "metadata": {},
   "source": [
    "### Блок 29: Код выполнения"
   ]
  },
  {
   "cell_type": "code",
   "execution_count": null,
   "id": "85a7ff10",
   "metadata": {},
   "outputs": [],
   "source": [
    "param_grid = {\n",
    "    'min_samples_split': [2, 5, 7, 10],\n",
    "    'max_depth': [3, 5, 7]\n",
    "}\n",
    "\n",
    "tree = DecisionTreeClassifier(criterion='entropy', random_state=42)\n",
    "\n",
    "grid_search = GridSearchCV(tree, param_grid, scoring='f1', cv=5)\n",
    "grid_search.fit(X_train[best_features], y_train)\n",
    "\n",
    "best_model = grid_search.best_estimator_\n",
    "y_pred = best_model.predict(X_test[best_features])\n",
    "\n",
    "f1 = f1_score(y_test, y_pred, average='binary', pos_label=1)\n",
    "\n",
    "\n",
    "print(f'Лучшие параметры: {grid_search.best_params_}')\n",
    "print(f'F1 на тесте: {f1:.4f}')\n",
    "print(f'{f1:.2f}')  # <- этот результат нужно вставить как ответ\n"
   ]
  },
  {
   "cell_type": "markdown",
   "id": "ed0fc831",
   "metadata": {},
   "source": [
    "# Часть 5: Решение задачи классификации: ансамбли моделей и построение прогноза"
   ]
  },
  {
   "cell_type": "markdown",
   "id": "6310c776",
   "metadata": {},
   "source": [
    "### Блок 30: Код выполнения"
   ]
  },
  {
   "cell_type": "code",
   "execution_count": null,
   "id": "8b2b4d3c",
   "metadata": {},
   "outputs": [],
   "source": [
    "rf = RandomForestClassifier(\n",
    "    n_estimators=100,\n",
    "    criterion='gini',\n",
    "    min_samples_leaf=5,\n",
    "    max_depth=10,\n",
    "    random_state=42\n",
    ")\n",
    "rf.fit(X_train[best_features], y_train)\n",
    "\n",
    "y_pred = rf.predict(X_test[best_features])\n",
    "\n",
    "accuracy = accuracy_score(y_test, y_pred)\n",
    "recall = recall_score(y_test, y_pred, average='binary', pos_label=1)\n",
    "\n",
    "print(f'Accuracy: {accuracy:.4f}')\n",
    "print(f'Recall: {recall:.4f}')\n",
    "print(f'{accuracy:.2f} {recall:.2f}')\n"
   ]
  },
  {
   "cell_type": "markdown",
   "id": "71d7b13d",
   "metadata": {},
   "source": [
    "### Задания 2 и 3"
   ]
  },
  {
   "cell_type": "markdown",
   "id": "36a27be4",
   "metadata": {},
   "source": [
    "### Блок 31: Код выполнения"
   ]
  },
  {
   "cell_type": "code",
   "execution_count": null,
   "id": "d0d16cbb",
   "metadata": {},
   "outputs": [],
   "source": [
    "gb = GradientBoostingClassifier(\n",
    "    learning_rate=0.05,\n",
    "    n_estimators=300,\n",
    "    min_samples_leaf=5,\n",
    "    max_depth=5,\n",
    "    random_state=42\n",
    ")\n",
    "gb.fit(X_train_scaled, y_train)\n",
    "\n",
    "y_pred_gb = gb.predict(X_test_scaled)\n",
    "\n",
    "gb_f1 = round(f1_score(y_test, y_pred_gb), 2)\n",
    "print('F1:', gb_f1)\n"
   ]
  },
  {
   "cell_type": "markdown",
   "id": "f50f683f",
   "metadata": {},
   "source": [
    "### Блок 32: Код выполнения"
   ]
  },
  {
   "cell_type": "code",
   "execution_count": null,
   "id": "ea9d1fee",
   "metadata": {},
   "outputs": [],
   "source": [
    "estimators = [\n",
    "    ('tree', DecisionTreeClassifier(criterion='entropy', random_state=42)),\n",
    "    ('logreg', LogisticRegression(solver='sag', random_state=42, max_iter=1000)),\n",
    "    ('gb', GradientBoostingClassifier(\n",
    "        learning_rate=0.05,\n",
    "        n_estimators=300,\n",
    "        min_samples_leaf=5,\n",
    "        max_depth=5,\n",
    "        random_state=42\n",
    "    ))\n",
    "]\n",
    "\n",
    "final_estimator = LogisticRegression(solver='sag', random_state=42, max_iter=1000)\n",
    "\n",
    "stacking = StackingClassifier(\n",
    "    estimators=estimators,\n",
    "    final_estimator=final_estimator,\n",
    "    n_jobs=-1\n",
    ")\n",
    "\n",
    "stacking.fit(X_train_scaled, y_train)\n",
    "y_pred_stack = stacking.predict(X_test_scaled)\n",
    "\n",
    "stack_precision = round(precision_score(y_test, y_pred_stack), 2)\n",
    "print('Precision:', stack_precision)\n"
   ]
  },
  {
   "cell_type": "markdown",
   "id": "21e5570f",
   "metadata": {},
   "source": [
    "### Блок 33: Код выполнения"
   ]
  },
  {
   "cell_type": "code",
   "execution_count": null,
   "id": "9f0a7c46",
   "metadata": {},
   "outputs": [],
   "source": [
    "model = RandomForestClassifier(\n",
    "    n_estimators=100,\n",
    "    criterion='gini',\n",
    "    min_samples_leaf=5,\n",
    "    max_depth=10,\n",
    "    random_state=42\n",
    ")\n",
    "\n",
    "model.fit(X_train[best_features], y_train)\n",
    "\n",
    "importances = model.feature_importances_\n",
    "features = pd.Series(importances, index=best_features)\n",
    "\n",
    "target_features = ['contact_unknown', 'duration', 'poutcome_success']\n",
    "filtered = features[target_features].sort_values(ascending=False)\n",
    "\n",
    "print(\"Признаки по убыванию важности:\")\n",
    "print(filtered)\n",
    "\n",
    "filtered.plot(kind='barh', title='Важность признаков')\n",
    "plt.gca().invert_yaxis()\n",
    "plt.show()\n"
   ]
  },
  {
   "cell_type": "markdown",
   "id": "96974dda",
   "metadata": {},
   "source": [
    "### Задания 6,7,8"
   ]
  },
  {
   "cell_type": "markdown",
   "id": "aa5ac5b7",
   "metadata": {},
   "source": [
    "### Блок 34: Код выполнения"
   ]
  },
  {
   "cell_type": "code",
   "execution_count": null,
   "id": "ffe94c77",
   "metadata": {},
   "outputs": [],
   "source": [
    "def objective(trial):\n",
    "    n_estimators = trial.suggest_int('n_estimators', 100, 200, step=1)\n",
    "    max_depth = trial.suggest_int('max_depth', 10, 30, step=1)\n",
    "    min_samples_leaf = trial.suggest_int('min_samples_leaf', 2, 10, step=1)\n",
    "\n",
    "    clf = RandomForestClassifier(\n",
    "        n_estimators=n_estimators,\n",
    "        max_depth=max_depth,\n",
    "        min_samples_leaf=min_samples_leaf,\n",
    "        random_state=42\n",
    "    )\n",
    "\n",
    "    clf.fit(X_train[best_features], y_train)\n",
    "    y_pred = clf.predict(X_test[best_features])\n",
    "    return f1_score(y_test, y_pred)\n",
    "\n",
    "study = optuna.create_study(direction='maximize')\n",
    "study.optimize(objective, n_trials=30)\n",
    "\n",
    "best_params = study.best_params\n",
    "print(f\"Лучшие параметры: {best_params}\")\n",
    "\n",
    "best_model = RandomForestClassifier(**best_params, random_state=42)\n",
    "best_model.fit(X_train[best_features], y_train)\n",
    "y_pred = best_model.predict(X_test[best_features])\n",
    "\n",
    "f1 = f1_score(y_test, y_pred)\n",
    "recall = recall_score(y_test, y_pred)\n",
    "accuracy = accuracy_score(y_test, y_pred)\n",
    "\n",
    "print(f'F1: {f1:.4f}')\n",
    "print(f'Recall: {recall:.4f}')\n",
    "print(f'Accuracy: {accuracy:.4f}')\n",
    "\n"
   ]
  }
 ],
 "metadata": {
  "kernelspec": {
   "display_name": "Python (venv)",
   "language": "python",
   "name": "venv"
  },
  "language_info": {
   "codemirror_mode": {
    "name": "ipython",
    "version": 3
   },
   "file_extension": ".py",
   "mimetype": "text/x-python",
   "name": "python",
   "nbconvert_exporter": "python",
   "pygments_lexer": "ipython3",
   "version": "3.10.7"
  }
 },
 "nbformat": 4,
 "nbformat_minor": 5
}
